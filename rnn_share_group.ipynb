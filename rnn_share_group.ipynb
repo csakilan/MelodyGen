{
 "cells": [
  {
   "cell_type": "code",
   "execution_count": 1,
   "metadata": {},
   "outputs": [],
   "source": [
    "import os \n",
    "import music21\n",
    "import music21.instrument\n",
    "import numpy as np\n",
    "import tensorflow as tf\n",
    "from sklearn.model_selection import train_test_split"
   ]
  },
  {
   "cell_type": "code",
   "execution_count": 3,
   "metadata": {},
   "outputs": [
    {
     "name": "stdout",
     "output_type": "stream",
     "text": [
      "Number of parts:11554\n"
     ]
    }
   ],
   "source": [
    "# read from melodyData.txt\n",
    "with open('generated/melodyData.txt', 'r') as f:\n",
    "    parts = eval(f.read())\n",
    "    print (\"Number of parts:\" + str(len(parts)))\n",
    "\n",
    "# one-hot encoding\n",
    "\n",
    "encodings = {}\n",
    "encodingIndex = 0\n",
    "for part in parts:\n",
    "    for note in part:\n",
    "        if note not in encodings:\n",
    "            encodings[note] = encodingIndex\n",
    "            encodingIndex += 1\n",
    "\n",
    "decodings = {}\n",
    "for k, v in encodings.items():\n",
    "    decodings[v] = k        \n",
    "\n",
    "# encode everything in a\n",
    "\n",
    "data_encoded = []\n",
    "for part in parts:\n",
    "    data_encoded.append([encodings[note] for note in part])\n"
   ]
  },
  {
   "cell_type": "code",
   "execution_count": 40,
   "metadata": {},
   "outputs": [],
   "source": [
    "sequence_length = 1\n",
    "\n",
    "X = []\n",
    "Y = []\n",
    "# given data_encoded, generate training data by looping \n",
    "for i in range(len(data_encoded[:100])):\n",
    "    for j in range(len(data_encoded[i]) - sequence_length):\n",
    "        X.append(data_encoded[i][j:j + sequence_length])\n",
    "        Y.append(data_encoded[i][j + sequence_length])\n",
    "\n",
    "X_onehot = []\n",
    "for seq in X:\n",
    "    onehot = np.zeros((len(seq), len(encodings)))\n",
    "    for note_index in range(len(seq)):\n",
    "        onehot[note_index][seq[note_index]] = 1\n",
    "    X_onehot.append(onehot)\n",
    "X = X_onehot\n",
    "\n",
    "\n",
    "# split this into training and testing sets \n",
    "# we will intentionally overfit, GET RID OF THIS LATER\n",
    "X_train, X_test, Y_train, Y_test = train_test_split(X, Y, test_size=0.2)\n",
    "\n",
    "#print (X_train) # each element of the list is a 2d array"
   ]
  },
  {
   "cell_type": "code",
   "execution_count": 41,
   "metadata": {},
   "outputs": [
    {
     "name": "stdout",
     "output_type": "stream",
     "text": [
      "14326\n"
     ]
    }
   ],
   "source": [
    "#sequence_length = 1\n",
    "\n",
    "# X_train should contain sequences from parts 1-100\n",
    "# X_test should contain the answers to said sequences\n",
    "# Y_train should contains sequences from parts 201-210\n",
    "# Y_test should contain the answers to said sequences\n",
    "\n",
    "def generate_data(data_encoded, encodings, sequence_length=1):\n",
    "\n",
    "    X = []\n",
    "    Y = []\n",
    "    for i in range(len(data_encoded)):\n",
    "        for j in range(len(data_encoded[i]) - sequence_length):\n",
    "            X.append(data_encoded[i][j:j + sequence_length])\n",
    "            #print (data_encoded[i][j + sequence_length])\n",
    "            Y.append(data_encoded[i][j + sequence_length])\n",
    "    \n",
    "    X_onehot = []\n",
    "\n",
    "    \"\"\"\n",
    "X_onehot = []\n",
    "for seq in X:\n",
    "    onehot = np.zeros((len(seq), len(encodings)))\n",
    "    for note_index in range(len(seq)):\n",
    "        onehot[note_index][seq[note_index]] = 1\n",
    "    X_onehot.append(onehot)\n",
    "X = X_onehot\n",
    "    \"\"\"\n",
    "\n",
    "\n",
    "    for seq in X:\n",
    "        onehot = np.zeros(len(encodings))\n",
    "        onehot[seq[0]] = 1\n",
    "        X_onehot.append(onehot)\n",
    "        \n",
    "    X = X_onehot\n",
    "\n",
    "    return X, Y\n",
    "\n",
    "X_train, Y_train = generate_data(data_encoded[:100], encodings)\n",
    "X_test, Y_test = generate_data(data_encoded[200:205], encodings)\n",
    "\n",
    "print (len(X_train))"
   ]
  },
  {
   "cell_type": "code",
   "execution_count": 43,
   "metadata": {},
   "outputs": [
    {
     "name": "stdout",
     "output_type": "stream",
     "text": [
      "Epoch 1/15\n"
     ]
    },
    {
     "ename": "ValueError",
     "evalue": "Exception encountered when calling Sequential.call().\n\n\u001b[1mInvalid input shape for input Tensor(\"data:0\", shape=(None, 1159), dtype=float32). Expected shape (1, 1, 1159), but input has incompatible shape (None, 1159)\u001b[0m\n\nArguments received by Sequential.call():\n  • inputs=tf.Tensor(shape=(None, 1159), dtype=float32)\n  • training=True\n  • mask=None",
     "output_type": "error",
     "traceback": [
      "\u001b[1;31m---------------------------------------------------------------------------\u001b[0m",
      "\u001b[1;31mValueError\u001b[0m                                Traceback (most recent call last)",
      "Cell \u001b[1;32mIn[43], line 27\u001b[0m\n\u001b[0;32m      7\u001b[0m model \u001b[38;5;241m=\u001b[39m tf\u001b[38;5;241m.\u001b[39mkeras\u001b[38;5;241m.\u001b[39mmodels\u001b[38;5;241m.\u001b[39mSequential([\n\u001b[0;32m      8\u001b[0m     tf\u001b[38;5;241m.\u001b[39mkeras\u001b[38;5;241m.\u001b[39mInput(batch_shape\u001b[38;5;241m=\u001b[39m(\u001b[38;5;241m1\u001b[39m, \u001b[38;5;241m1\u001b[39m, \u001b[38;5;28mlen\u001b[39m(encodings))),\n\u001b[0;32m      9\u001b[0m     \u001b[38;5;66;03m#tf.keras.layers.Input(shape=(sequence_length, 1)),\u001b[39;00m\n\u001b[1;32m   (...)\u001b[0m\n\u001b[0;32m     22\u001b[0m     tf\u001b[38;5;241m.\u001b[39mkeras\u001b[38;5;241m.\u001b[39mlayers\u001b[38;5;241m.\u001b[39mDense(\u001b[38;5;28mlen\u001b[39m(encodings), activation\u001b[38;5;241m=\u001b[39m\u001b[38;5;124m'\u001b[39m\u001b[38;5;124msoftmax\u001b[39m\u001b[38;5;124m'\u001b[39m)\n\u001b[0;32m     23\u001b[0m ])\n\u001b[0;32m     25\u001b[0m model\u001b[38;5;241m.\u001b[39mcompile(optimizer\u001b[38;5;241m=\u001b[39m\u001b[38;5;124m'\u001b[39m\u001b[38;5;124madam\u001b[39m\u001b[38;5;124m'\u001b[39m, loss\u001b[38;5;241m=\u001b[39m\u001b[38;5;124m'\u001b[39m\u001b[38;5;124msparse_categorical_crossentropy\u001b[39m\u001b[38;5;124m'\u001b[39m, metrics\u001b[38;5;241m=\u001b[39m[\u001b[38;5;124m'\u001b[39m\u001b[38;5;124maccuracy\u001b[39m\u001b[38;5;124m'\u001b[39m])\n\u001b[1;32m---> 27\u001b[0m \u001b[43mmodel\u001b[49m\u001b[38;5;241;43m.\u001b[39;49m\u001b[43mfit\u001b[49m\u001b[43m(\u001b[49m\u001b[43mnp\u001b[49m\u001b[38;5;241;43m.\u001b[39;49m\u001b[43marray\u001b[49m\u001b[43m(\u001b[49m\u001b[43mX_train\u001b[49m\u001b[43m)\u001b[49m\u001b[43m,\u001b[49m\u001b[43m \u001b[49m\u001b[43mnp\u001b[49m\u001b[38;5;241;43m.\u001b[39;49m\u001b[43marray\u001b[49m\u001b[43m(\u001b[49m\u001b[43mY_train\u001b[49m\u001b[43m)\u001b[49m\u001b[43m,\u001b[49m\u001b[43m \u001b[49m\u001b[43mepochs\u001b[49m\u001b[38;5;241;43m=\u001b[39;49m\u001b[38;5;241;43m15\u001b[39;49m\u001b[43m)\u001b[49m\n",
      "File \u001b[1;32m~\\AppData\\Roaming\\Python\\Python310\\site-packages\\keras\\src\\utils\\traceback_utils.py:122\u001b[0m, in \u001b[0;36mfilter_traceback.<locals>.error_handler\u001b[1;34m(*args, **kwargs)\u001b[0m\n\u001b[0;32m    119\u001b[0m     filtered_tb \u001b[38;5;241m=\u001b[39m _process_traceback_frames(e\u001b[38;5;241m.\u001b[39m__traceback__)\n\u001b[0;32m    120\u001b[0m     \u001b[38;5;66;03m# To get the full stack trace, call:\u001b[39;00m\n\u001b[0;32m    121\u001b[0m     \u001b[38;5;66;03m# `keras.config.disable_traceback_filtering()`\u001b[39;00m\n\u001b[1;32m--> 122\u001b[0m     \u001b[38;5;28;01mraise\u001b[39;00m e\u001b[38;5;241m.\u001b[39mwith_traceback(filtered_tb) \u001b[38;5;28;01mfrom\u001b[39;00m \u001b[38;5;28;01mNone\u001b[39;00m\n\u001b[0;32m    123\u001b[0m \u001b[38;5;28;01mfinally\u001b[39;00m:\n\u001b[0;32m    124\u001b[0m     \u001b[38;5;28;01mdel\u001b[39;00m filtered_tb\n",
      "File \u001b[1;32m~\\AppData\\Roaming\\Python\\Python310\\site-packages\\keras\\src\\models\\functional.py:264\u001b[0m, in \u001b[0;36mFunctional._adjust_input_rank\u001b[1;34m(self, flat_inputs)\u001b[0m\n\u001b[0;32m    262\u001b[0m             adjusted\u001b[38;5;241m.\u001b[39mappend(ops\u001b[38;5;241m.\u001b[39mexpand_dims(x, axis\u001b[38;5;241m=\u001b[39m\u001b[38;5;241m-\u001b[39m\u001b[38;5;241m1\u001b[39m))\n\u001b[0;32m    263\u001b[0m             \u001b[38;5;28;01mcontinue\u001b[39;00m\n\u001b[1;32m--> 264\u001b[0m     \u001b[38;5;28;01mraise\u001b[39;00m \u001b[38;5;167;01mValueError\u001b[39;00m(\n\u001b[0;32m    265\u001b[0m         \u001b[38;5;124mf\u001b[39m\u001b[38;5;124m\"\u001b[39m\u001b[38;5;124mInvalid input shape for input \u001b[39m\u001b[38;5;132;01m{\u001b[39;00mx\u001b[38;5;132;01m}\u001b[39;00m\u001b[38;5;124m. Expected shape \u001b[39m\u001b[38;5;124m\"\u001b[39m\n\u001b[0;32m    266\u001b[0m         \u001b[38;5;124mf\u001b[39m\u001b[38;5;124m\"\u001b[39m\u001b[38;5;132;01m{\u001b[39;00mref_shape\u001b[38;5;132;01m}\u001b[39;00m\u001b[38;5;124m, but input has incompatible shape \u001b[39m\u001b[38;5;132;01m{\u001b[39;00mx\u001b[38;5;241m.\u001b[39mshape\u001b[38;5;132;01m}\u001b[39;00m\u001b[38;5;124m\"\u001b[39m\n\u001b[0;32m    267\u001b[0m     )\n\u001b[0;32m    268\u001b[0m \u001b[38;5;66;03m# Add back metadata.\u001b[39;00m\n\u001b[0;32m    269\u001b[0m \u001b[38;5;28;01mfor\u001b[39;00m i \u001b[38;5;129;01min\u001b[39;00m \u001b[38;5;28mrange\u001b[39m(\u001b[38;5;28mlen\u001b[39m(flat_inputs)):\n",
      "\u001b[1;31mValueError\u001b[0m: Exception encountered when calling Sequential.call().\n\n\u001b[1mInvalid input shape for input Tensor(\"data:0\", shape=(None, 1159), dtype=float32). Expected shape (1, 1, 1159), but input has incompatible shape (None, 1159)\u001b[0m\n\nArguments received by Sequential.call():\n  • inputs=tf.Tensor(shape=(None, 1159), dtype=float32)\n  • training=True\n  • mask=None"
     ]
    }
   ],
   "source": [
    "#split this into training and testing sets \n",
    "# we will intentionally overfit, GET RID OF THIS LATER\n",
    "# T    tf.keras.layers.Input(shape=(sequence_length, 1)), X_test, Y_train, Y_test = train_test_split(X, Y, test_size=0.2)\n",
    "\n",
    "# TODO: make the model itself\n",
    "# benchmark: dense is 80% accuracy\n",
    "model = tf.keras.models.Sequential([\n",
    "\n",
    "    #KEEP STATEFUL = TRUE\n",
    "\n",
    "    tf.keras.Input(batch_shape=(1, 1, len(encodings))),\n",
    "    #tf.keras.layers.Input(shape=(sequence_length, 1)),\n",
    "    #tf.keras.layers.Flatten(),\n",
    "    # tf.keras.layers.LSTM(128, return_sequences=True),\n",
    "    # tf.keras.layers.LSTM(64),\n",
    "\n",
    "    tf.keras.layers.LSTM(128, stateful=True),  # stateful=True, batch size 1\n",
    "    #tf.keras.layers.Dense(64, activation='relu'),\n",
    "    #tf.keras.layers.Dense(len(encodings), activation='softmax')\n",
    "\n",
    "    tf.keras.layers.Dense(64, activation='relu'),\n",
    "    tf.keras.layers.Dense(64, activation='relu'),\n",
    "    tf.keras.layers.Dense(128, activation='softplus'),\n",
    "    tf.keras.layers.Dense(128, activation='relu'),\n",
    "    tf.keras.layers.Dense(len(encodings), activation='softmax')\n",
    "])\n",
    "\n",
    "model.compile(optimizer='adam', loss='sparse_categorical_crossentropy', metrics=['accuracy'])\n",
    "\n",
    "model.fit(np.array(X_train), np.array(Y_train), epochs=15)\n"
   ]
  },
  {
   "cell_type": "code",
   "execution_count": 73,
   "metadata": {},
   "outputs": [
    {
     "name": "stdout",
     "output_type": "stream",
     "text": [
      "\u001b[1m16/16\u001b[0m \u001b[32m━━━━━━━━━━━━━━━━━━━━\u001b[0m\u001b[37m\u001b[0m \u001b[1m0s\u001b[0m 3ms/step - accuracy: 0.1303 - loss: 17.2807  \n",
      "Loss: 21.392276763916016, Accuracy: 0.1330561339855194\n"
     ]
    }
   ],
   "source": [
    "loss, accuracy = model.evaluate(np.array(X_test), np.array(Y_test), verbose=1)\n",
    "print(f'Loss: {loss}, Accuracy: {accuracy}')"
   ]
  },
  {
   "cell_type": "code",
   "execution_count": 75,
   "metadata": {},
   "outputs": [
    {
     "name": "stdout",
     "output_type": "stream",
     "text": [
      "\u001b[1m1/1\u001b[0m \u001b[32m━━━━━━━━━━━━━━━━━━━━\u001b[0m\u001b[37m\u001b[0m \u001b[1m0s\u001b[0m 36ms/step\n"
     ]
    },
    {
     "name": "stdout",
     "output_type": "stream",
     "text": [
      "\u001b[1m1/1\u001b[0m \u001b[32m━━━━━━━━━━━━━━━━━━━━\u001b[0m\u001b[37m\u001b[0m \u001b[1m0s\u001b[0m 42ms/step\n",
      "\u001b[1m1/1\u001b[0m \u001b[32m━━━━━━━━━━━━━━━━━━━━\u001b[0m\u001b[37m\u001b[0m \u001b[1m0s\u001b[0m 34ms/step\n",
      "\u001b[1m1/1\u001b[0m \u001b[32m━━━━━━━━━━━━━━━━━━━━\u001b[0m\u001b[37m\u001b[0m \u001b[1m0s\u001b[0m 35ms/step\n",
      "\u001b[1m1/1\u001b[0m \u001b[32m━━━━━━━━━━━━━━━━━━━━\u001b[0m\u001b[37m\u001b[0m \u001b[1m0s\u001b[0m 31ms/step\n",
      "\u001b[1m1/1\u001b[0m \u001b[32m━━━━━━━━━━━━━━━━━━━━\u001b[0m\u001b[37m\u001b[0m \u001b[1m0s\u001b[0m 25ms/step\n",
      "\u001b[1m1/1\u001b[0m \u001b[32m━━━━━━━━━━━━━━━━━━━━\u001b[0m\u001b[37m\u001b[0m \u001b[1m0s\u001b[0m 25ms/step\n",
      "\u001b[1m1/1\u001b[0m \u001b[32m━━━━━━━━━━━━━━━━━━━━\u001b[0m\u001b[37m\u001b[0m \u001b[1m0s\u001b[0m 25ms/step\n",
      "\u001b[1m1/1\u001b[0m \u001b[32m━━━━━━━━━━━━━━━━━━━━\u001b[0m\u001b[37m\u001b[0m \u001b[1m0s\u001b[0m 25ms/step\n",
      "\u001b[1m1/1\u001b[0m \u001b[32m━━━━━━━━━━━━━━━━━━━━\u001b[0m\u001b[37m\u001b[0m \u001b[1m0s\u001b[0m 24ms/step\n",
      "G 0.33\n",
      "G 0.25\n",
      "C 0.75\n",
      "D 0.25\n",
      "C 0.75\n",
      "C 0.25\n",
      "C 0.75\n",
      "A# 0.25\n",
      "C 0.75\n",
      "D# 0.25\n",
      "C 0.25\n",
      "A# 0.50\n",
      "C 0.50\n",
      "C 0.25\n",
      "C 0.25\n",
      "A# 0.50\n",
      "C 0.50\n",
      "F# 0.50\n",
      "G# 0.50\n",
      "D 0.50\n"
     ]
    }
   ],
   "source": [
    "import copy\n",
    "# given a sequence, generate the next note (up to ten times)\n",
    "seq = copy.deepcopy(X_test[4])\n",
    "total_seq = seq[:]\n",
    "for i in range(10):\n",
    "    pred = model.predict(np.array([seq]))\n",
    "    pred = np.argmax(pred)\n",
    "    # append to sequence the one-hot encoding of pred\n",
    "    one_hot = np.zeros((len(encodings)))\n",
    "    one_hot[pred] = 1\n",
    "    total_seq = np.append(total_seq, [one_hot], axis=0)\n",
    "    # set sequence to be the last ten values of total_seq\n",
    "    seq = total_seq[-10:]\n",
    "\n",
    "    #total_seq.append(pred)\n",
    "    # total seq is a numpy array, can't just append things to it\n",
    "\n",
    "mapping = {0: \"C\", 1: \"C#\", 2: \"D\", 3: \"D#\", 4: \"E\", 5: \"F\", 6: \"F#\", 7: \"G\", 8: \"G#\", 9: \"A\", 10: \"A#\", 11: \"B\"}\n",
    "    \n",
    "\n",
    "for note in total_seq:\n",
    "    pitch, dur = decodings[np.argmax(note)]\n",
    "    print (mapping[pitch % 12], dur)\n",
    "\n",
    "# convert numbers to musical note letters\n",
    "# 60 = C"
   ]
  },
  {
   "cell_type": "code",
   "execution_count": 2,
   "metadata": {},
   "outputs": [],
   "source": [
    "import os \n",
    "import music21\n",
    "import music21.instrument\n",
    "import numpy as np\n",
    "import tensorflow as tf\n",
    "from sklearn.model_selection import train_test_split"
   ]
  }
 ],
 "metadata": {
  "kernelspec": {
   "display_name": "myenv",
   "language": "python",
   "name": "python3"
  },
  "language_info": {
   "codemirror_mode": {
    "name": "ipython",
    "version": 3
   },
   "file_extension": ".py",
   "mimetype": "text/x-python",
   "name": "python",
   "nbconvert_exporter": "python",
   "pygments_lexer": "ipython3",
   "version": "3.10.15"
  }
 },
 "nbformat": 4,
 "nbformat_minor": 2
}
