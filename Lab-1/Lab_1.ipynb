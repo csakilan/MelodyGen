{
  "nbformat": 4,
  "nbformat_minor": 0,
  "metadata": {
    "colab": {
      "provenance": [],
      "include_colab_link": true
    },
    "kernelspec": {
      "name": "python3",
      "display_name": "Python 3"
    },
    "language_info": {
      "name": "python"
    }
  },
  "cells": [
    {
      "cell_type": "markdown",
      "metadata": {
        "id": "view-in-github",
        "colab_type": "text"
      },
      "source": [
        "<a href=\"https://colab.research.google.com/github/csakilan/MelodyGen/blob/main/Lab-1/Lab_1.ipynb\" target=\"_parent\"><img src=\"https://colab.research.google.com/assets/colab-badge.svg\" alt=\"Open In Colab\"/></a>"
      ]
    },
    {
      "cell_type": "code",
      "source": [
        "# Clone the repository with minimal data\n",
        "# --depth 1: Only fetch the latest commit (makes cloning faster)\n",
        "# --filter=blob:none: Prevents downloading all file contents (saves space)\n",
        "# --sparse: Enables sparse checkout (to select specific folders)\n",
        "!git clone --depth 1 --filter=blob:none --sparse https://github.com/LLM-AI-INDIA/GenAI-Bootcamp-FEB2025.git\n",
        "\n",
        "# Change directory to the cloned repository\n",
        "%cd GenAI-Bootcamp-FEB2025\n",
        "\n",
        "# Enable sparse-checkout and download only the \"Lab-1\" folder\n",
        "!git sparse-checkout set Lab-1\n",
        "\n",
        "# Navigate to the \"Lab-1\" folder inside the cloned repo\n",
        "%cd /content/GenAI-Bootcamp-FEB2025/Lab-1\n",
        "\n",
        "# Install dependencies from the requirements.txt file\n",
        "!pip install -r requirements.txt\n",
        "\n",
        "# Install pyngrok\n",
        "!pip install pyngrok\n",
        "\n",
        "# Import necessary modules\n",
        "from pyngrok import ngrok\n",
        "\n",
        "# Set up ngrok with authentication token\n",
        "ngrok.set_auth_token(\"2yCXfm6aWOo4jiDSZ6l3tfj0XFA_813M1L15kEjNzbX2AW9jv\")\n",
        "\n",
        "# Set up ngrok\n",
        "public_url = ngrok.connect(8501)\n",
        "print(f'Public URL: {public_url}')\n",
        "\n",
        "# Run the Streamlit app\n",
        "get_ipython().system_raw('streamlit run app.py &')\n",
        "\n",
        "# Keep the tunnel open\n",
        "import time\n",
        "time.sleep(60*20)  # Keep the tunnel open for 20 minutes"
      ],
      "metadata": {
        "id": "kOuH5w9kXAqI"
      },
      "execution_count": null,
      "outputs": []
    }
  ]
}