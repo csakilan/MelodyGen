{
 "cells": [
  {
   "cell_type": "code",
   "execution_count": 34,
   "metadata": {},
   "outputs": [],
   "source": [
    "import os \n",
    "import music21\n",
    "import music21.instrument\n",
    "import numpy as np\n",
    "import tensorflow as tf\n",
    "from sklearn.model_selection import train_test_split"
   ]
  },
  {
   "cell_type": "code",
   "execution_count": null,
   "metadata": {},
   "outputs": [],
   "source": [
    "# read from melodyData.txt\n",
    "with open('generated/melodyDataShort.txt', 'r') as f:\n",
    "    parts = eval(f.read())\n",
    "\n",
    "# one-hot encoding\n",
    "encodings = {}\n",
    "encodingIndex = 0\n",
    "for part in parts:\n",
    "    for note in part:\n",
    "        if note not in encodings:\n",
    "            encodings[note] = encodingIndex\n",
    "            encodingIndex += 1\n",
    "print(len(encodings), \"encodings\")\n",
    "\n",
    "decodings = {}\n",
    "for k, v in encodings.items():\n",
    "    decodings[v] = k        \n",
    "\n",
    "# encode everything in indidces first\n",
    "data_encoded = []\n",
    "for part in parts:\n",
    "    data_encoded.append([encodings[note] for note in part])\n"
   ]
  },
  {
   "cell_type": "code",
   "execution_count": null,
   "metadata": {},
   "outputs": [],
   "source": [
    "print(encodings)"
   ]
  },
  {
   "cell_type": "code",
   "execution_count": 37,
   "metadata": {},
   "outputs": [],
   "source": [
    "# number of notes per sequence\n",
    "sequence_length = 10\n",
    "\n",
    "X = []\n",
    "Y = []\n",
    "\n",
    "# given data_encoded, generate training data by looping\n",
    "for i in range(len(data_encoded)):\n",
    "    for j in range(len(data_encoded[i]) - sequence_length):\n",
    "        X.append(data_encoded[i][j:j + sequence_length])\n",
    "        Y.append(data_encoded[i][j + sequence_length])\n",
    "\n",
    "# one-hot encode cache\n",
    "encodings_onehot = {}\n",
    "# key is note tuple, v is encoding index\n",
    "for k, v in encodings.items():\n",
    "    onehot = np.zeros(len(encodings))\n",
    "    onehot[v] = 1\n",
    "    encodings_onehot[v] = onehot\n",
    "\n",
    "# one-hot encode X\n",
    "X_onehot = []\n",
    "for seq in X:\n",
    "    X_onehot.append(np.array([ encodings_onehot[note] for note in seq]))\n",
    "X = X_onehot\n",
    "\n",
    "# split this into training and testing sets \n",
    "# we will intentionally overfit, GET RID OF THIS LATER\n",
    "X_train, X_test, Y_train, Y_test = train_test_split(X, Y, test_size=0.2)"
   ]
  },
  {
   "cell_type": "code",
   "execution_count": null,
   "metadata": {},
   "outputs": [],
   "source": [
    "# TODO: make the model itself\n",
    "# benchmark: dense is 80% accuracy\n",
    "model = tf.keras.models.Sequential([\n",
    "    tf.keras.Input(shape=(sequence_length, len(encodings))),\n",
    "    tf.keras.layers.Flatten(),\n",
    "    tf.keras.layers.Dense(256, activation='relu'),\n",
    "    # tf.keras.layers.Dropout(.4),\n",
    "    tf.keras.layers.Dense(128, activation='relu'),\n",
    "    tf.keras.layers.Dense(len(encodings), activation='softmax')\n",
    "])\n",
    "\n",
    "model.compile(optimizer='adam', loss='sparse_categorical_crossentropy', metrics=['accuracy'])\n",
    "\n",
    "model.fit(np.array(X_train), np.array(Y_train), epochs=8)\n"
   ]
  },
  {
   "cell_type": "code",
   "execution_count": null,
   "metadata": {},
   "outputs": [],
   "source": [
    "loss, accuracy = model.evaluate(np.array(X_test), np.array(Y_test), verbose=1)\n",
    "print(f'Loss: {loss}, Accuracy: {accuracy}')"
   ]
  },
  {
   "cell_type": "code",
   "execution_count": null,
   "metadata": {},
   "outputs": [],
   "source": [
    "import copy\n",
    "# given a sequence, generate the next note (up to ten times)\n",
    "seq = copy.deepcopy(X_train[1])\n",
    "total_seq = seq[:]\n",
    "for i in range(10):\n",
    "    pred = model.predict(np.array([seq]))\n",
    "    pred = np.argmax(pred)\n",
    "    # append to sequence the one-hot encoding of pred\n",
    "    one_hot = np.zeros((len(encodings)))\n",
    "    one_hot[pred] = 1\n",
    "    total_seq = np.append(total_seq, [one_hot], axis=0)\n",
    "    # set sequence to be the last ten values of total_seq\n",
    "    seq = total_seq[-10:]\n",
    "    #print (seq)\n",
    "\n",
    "    #total_seq.append(pred)\n",
    "    # total seq is a numpy array, can't just append things to it\n",
    "\n",
    "mapping = {0: \"C\", 1: \"C#\", 2: \"D\", 3: \"D#\", 4: \"E\", 5: \"F\", 6: \"F#\", 7: \"G\", 8: \"G#\", 9: \"A\", 10: \"A#\", 11: \"B\"}\n",
    "    \n",
    "for note in total_seq:\n",
    "    pitch, dur = decodings[np.argmax(note)]\n",
    "    print (mapping[(pitch - 1) % 12] if pitch != 0 else \"Rest\", dur)\n",
    "\n",
    "# convert numbers to musical note letters\n",
    "# 60 = C"
   ]
  }
 ],
 "metadata": {
  "kernelspec": {
   "display_name": "Python 3",
   "language": "python",
   "name": "python3"
  },
  "language_info": {
   "codemirror_mode": {
    "name": "ipython",
    "version": 3
   },
   "file_extension": ".py",
   "mimetype": "text/x-python",
   "name": "python",
   "nbconvert_exporter": "python",
   "pygments_lexer": "ipython3",
   "version": "3.12.7"
  }
 },
 "nbformat": 4,
 "nbformat_minor": 2
}
