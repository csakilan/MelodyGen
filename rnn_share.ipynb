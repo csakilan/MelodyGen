{
 "cells": [
  {
   "cell_type": "code",
   "execution_count": 9,
   "metadata": {},
   "outputs": [],
   "source": [
    "import os \n",
    "import music21\n",
    "import music21.instrument\n",
    "import numpy as np\n",
    "import tensorflow as tf\n",
    "from sklearn.model_selection import train_test_split"
   ]
  },
  {
   "cell_type": "markdown",
   "metadata": {},
   "source": []
  },
  {
   "cell_type": "code",
   "execution_count": 10,
   "metadata": {},
   "outputs": [],
   "source": [
    "# read from melodyData.txt\n",
    "with open('out/melodyData.txt', 'r') as f:\n",
    "    parts = eval(f.read())\n",
    "\n"
   ]
  },
  {
   "cell_type": "code",
   "execution_count": 11,
   "metadata": {},
   "outputs": [],
   "source": [
    "# one-hot encoding\n",
    "# encodings is like a dictionary \n",
    "\n",
    "no_parts = 100\n",
    "\n",
    "encodings = {}\n",
    "encodingIndex = 0\n",
    "for part in parts[:no_parts]:\n",
    "    for note in part:\n",
    "        if note not in encodings:\n",
    "            encodings[note] = encodingIndex\n",
    "            encodingIndex += 1\n",
    "\n",
    "decodings = {}\n",
    "for k, v in encodings.items():\n",
    "    decodings[v] = k        \n",
    "\n",
    "data_encoded = []\n",
    "for part in parts[:no_parts]:\n",
    "    data_encoded.append([encodings[note] for note in part])"
   ]
  },
  {
   "cell_type": "code",
   "execution_count": null,
   "metadata": {},
   "outputs": [],
   "source": [
    "# number of notes per sequence to train the model on\n",
    "sequence_length = 10\n",
    "\n",
    "X = []\n",
    "Y = []\n",
    "\n",
    "# given data_encoded, generate training data by looping\n",
    "for i in range(len(data_encoded)):\n",
    "    \n",
    "    for j in range(len(data_encoded[i]) - sequence_length):\n",
    "        # from j to j + sequence_length, append to X\n",
    "        X.append(data_encoded[i][j:j + sequence_length])\n",
    "        # append the next note to Y for prediction purposes\n",
    "        Y.append(data_encoded[i][j + sequence_length])\n",
    "\n",
    "print (X, Y)\n",
    "\n",
    "# one-hot encode cache\n",
    "encodings_onehot = {}\n",
    "\n",
    "# creating an array of values where 1 is mapped to the corresponding dictionary value in encodings\n",
    "# k is note tuple, v is encoding index\n",
    "for k, v in encodings.items():\n",
    "    #create a new array of zeros with length of encodings\n",
    "    onehot = np.zeros(len(encodings))\n",
    "    #set the index of the note to 1\n",
    "    onehot[v] = 1\n",
    "    #append to encodings_onehot\n",
    "    encodings_onehot[v] = onehot\n",
    "\n",
    "# one-hot encode X\n",
    "# for each sequence in X, we will convert it to a one-hot encoding\n",
    "X_onehot = []\n",
    "for seq in X:\n",
    "    X_onehot.append(np.array([ encodings_onehot[note] for note in seq]))\n",
    "X = X_onehot\n",
    "\n",
    "X_train = X[:int(len(X) * 0.7)] \n",
    "X_test = X[int(len(X) * 0.8):]\n",
    "Y_train = Y[:int(len(Y) * 0.7)]\n",
    "Y_test = Y[int(len(Y) * 0.8):]\n",
    "\n",
    "X_train = np.array(X_train)\n",
    "X_test = np.array(X_test)\n",
    "Y_train = np.array(Y_train)\n",
    "Y_test = np.array(Y_test)\n"
   ]
  },
  {
   "cell_type": "code",
   "execution_count": null,
   "metadata": {},
   "outputs": [],
   "source": [
    "# TODO: make the model itself\n",
    "# benchmark: dense is 80% accuracy\n",
    "\n",
    "model = tf.keras.models.Sequential([\n",
    "    tf.keras.Input(shape=(sequence_length, len(encodings))),\n",
    "    tf.keras.layers.Flatten(),\n",
    "    tf.keras.layers.Dense(256, activation='relu'),\n",
    "    # tf.keras.layers.Dropout(.4),\n",
    "    tf.keras.layers.Dense(128, activation='relu'),\n",
    "    tf.keras.layers.Dense(len(encodings), activation='softmax')\n",
    "])\n",
    "\n",
    "model.compile(optimizer='adam', loss='sparse_categorical_crossentropy', metrics=['accuracy'])\n",
    "\n",
    "model.fit(X_train, Y_train, epochs=20)"
   ]
  },
  {
   "cell_type": "code",
   "execution_count": null,
   "metadata": {},
   "outputs": [],
   "source": [
    "loss, accuracy = model.evaluate(np.array(X_test), np.array(Y_test), verbose=1)\n",
    "print(f'Loss: {loss}, Accuracy: {accuracy}')\n",
    "\n",
    "print()"
   ]
  },
  {
   "cell_type": "code",
   "execution_count": null,
   "metadata": {},
   "outputs": [],
   "source": [
    "import copy\n",
    "# given a sequence, generate the next note (up to ten times)\n",
    "seq = copy.deepcopy(X_train[1])\n",
    "total_seq = seq[:]\n",
    "for i in range(10):\n",
    "\n",
    "    #2d array that predicts the probability of the next note\n",
    "    pred = model.predict(np.array([seq]))\n",
    "\n",
    "    #this line takes the prediction with the highest probability\n",
    "    pred = np.argmax(pred)\n",
    "\n",
    "    # append to sequence the one-hot encoding of pred\n",
    "    one_hot = np.zeros((len(encodings)))\n",
    "    one_hot[pred] = 1\n",
    "    total_seq = np.append(total_seq, [one_hot], axis=0)\n",
    "    # set sequence to be the last ten values of total_seq\n",
    "    seq = total_seq[-10:]\n",
    "\n",
    "mapping = {0: \"C\", 1: \"C#\", 2: \"D\", 3: \"D#\", 4: \"E\", 5: \"F\", 6: \"F#\", 7: \"G\", 8: \"G#\", 9: \"A\", 10: \"A#\", 11: \"B\"}\n",
    "    \n",
    "for idx, note in enumerate(total_seq):\n",
    "    if idx == 10:\n",
    "        print (\"New part \")\n",
    "    pitch, dur = decodings[np.argmax(note)]\n",
    "    print (mapping[(pitch - 1) % 12] if pitch != 0 else \"Rest\", dur)\n"
   ]
  },
  {
   "cell_type": "code",
   "execution_count": 53,
   "metadata": {},
   "outputs": [],
   "source": [
    "import tinysoundfont\n",
    "import time"
   ]
  },
  {
   "cell_type": "code",
   "execution_count": 62,
   "metadata": {},
   "outputs": [],
   "source": [
    "\n",
    "synth = tinysoundfont.Synth()\n",
    "sfid = synth.sfload(\"Live_Party_SoundFont__Techno_.sf2\", -5)\n",
    "synth.program_change(2, sfid, 1)\n",
    "synth.start()\n",
    "\n",
    "def play_tone(midi_pitch, duration):\n",
    "    synth.noteon(0, midi_pitch, 127)\n",
    "    time.sleep(duration)\n",
    "    synth.noteoff(0, midi_pitch)\n",
    "\n",
    "def wait(duration):\n",
    "    time.sleep(duration)\n",
    "\n",
    "bpm = 92\n",
    "time_multiplier = 60 / bpm\n",
    "\n",
    "# play the sequence\n",
    "for note in total_seq:\n",
    "    pitch, dur = decodings[np.argmax(note)]\n",
    "    adjusted_dur = float(dur) * time_multiplier\n",
    "    if (pitch <= 0):\n",
    "        wait(adjusted_dur)\n",
    "    else:\n",
    "        play_tone(pitch + 47, adjusted_dur)\n",
    "\n",
    "synth.stop()"
   ]
  }
 ],
 "metadata": {
  "kernelspec": {
   "display_name": "Python 3",
   "language": "python",
   "name": "python3"
  },
  "language_info": {
   "codemirror_mode": {
    "name": "ipython",
    "version": 3
   },
   "file_extension": ".py",
   "mimetype": "text/x-python",
   "name": "python",
   "nbconvert_exporter": "python",
   "pygments_lexer": "ipython3",
   "version": "3.12.1"
  }
 },
 "nbformat": 4,
 "nbformat_minor": 2
}
