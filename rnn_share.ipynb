{
 "cells": [
  {
   "cell_type": "code",
   "execution_count": 1,
   "metadata": {},
   "outputs": [
    {
     "name": "stdout",
     "output_type": "stream",
     "text": [
      "WARNING:tensorflow:From C:\\Users\\sanja\\AppData\\Roaming\\Python\\Python310\\site-packages\\keras\\src\\losses.py:2976: The name tf.losses.sparse_softmax_cross_entropy is deprecated. Please use tf.compat.v1.losses.sparse_softmax_cross_entropy instead.\n",
      "\n"
     ]
    }
   ],
   "source": [
    "import os \n",
    "import music21\n",
    "import music21.instrument\n",
    "import numpy as np\n",
    "import tensorflow as tf\n",
    "from sklearn.model_selection import train_test_split"
   ]
  },
  {
   "cell_type": "code",
   "execution_count": 3,
   "metadata": {},
   "outputs": [
    {
     "name": "stdout",
     "output_type": "stream",
     "text": [
      "Number of parts:5\n"
     ]
    }
   ],
   "source": [
    "# read from melodyData.txt\n",
    "with open('out/melodyData.txt', 'r') as f:\n",
    "    parts = eval(f.read())\n",
    "    print (\"Number of parts:\" + str(len(parts)))\n",
    "\n",
    "# one-hot encoding\n",
    "\n",
    "encodings = {}\n",
    "encodingIndex = 0\n",
    "for part in parts:\n",
    "    for note in part:\n",
    "        if note not in encodings:\n",
    "            encodings[note] = encodingIndex\n",
    "            encodingIndex += 1\n",
    "\n",
    "decodings = {}\n",
    "for k, v in encodings.items():\n",
    "    decodings[v] = k        \n",
    "\n",
    "# encode everything in a\n",
    "\n",
    "data_encoded = []\n",
    "for part in parts:\n",
    "    data_encoded.append([encodings[note] for note in part])\n"
   ]
  },
  {
   "cell_type": "code",
   "execution_count": 49,
   "metadata": {},
   "outputs": [],
   "source": [
    "num_data = min(200, len(data_encoded))\n",
    "\n",
    "# X_train should contain sequences from parts 1-100\n",
    "# X_test should contain the answers to said sequences\n",
    "# Y_train should contains sequences from parts 201-210\n",
    "# Y_test should contain the answers to said sequences\n",
    "\n",
    "def generate_data(data_encoded, encodings):\n",
    "    X = []\n",
    "    Y = []\n",
    "    # given data_encoded, generate training data by looping \n",
    "    for i in range(len(data_encoded[:100])):\n",
    "        currentX = []\n",
    "        currentY = []\n",
    "        for j in range(len(data_encoded[i])-1):\n",
    "            currentX.append(data_encoded[i][j])\n",
    "            currentY.append(data_encoded[i][j+1])\n",
    "        X.append(currentX)\n",
    "        Y.append(currentY)\n",
    "\n",
    "    X_onehot = []\n",
    "    for seq in X:\n",
    "        onehot = np.zeros((len(seq), len(encodings)))\n",
    "        for note_index in range(len(seq)):\n",
    "            onehot[note_index][seq[note_index]] = 1\n",
    "        X_onehot.append(onehot)\n",
    "    X = X_onehot\n",
    "\n",
    "    Y_onehot = []\n",
    "    for seq in Y:\n",
    "        onehot = np.zeros((len(seq), len(encodings)))\n",
    "        for note_index in range(len(seq)):\n",
    "            onehot[note_index][seq[note_index]] = 1\n",
    "        Y_onehot.append(onehot)\n",
    "    Y = Y_onehot\n",
    "\n",
    "    return X, Y\n",
    "\n",
    "import math\n",
    "\n",
    "X_train, Y_train = generate_data(data_encoded[:math.floor(num_data*0.7)], encodings)\n",
    "X_test, Y_test = generate_data(data_encoded[math.floor(num_data*0.7):], encodings)\n"
   ]
  },
  {
   "cell_type": "code",
   "execution_count": 69,
   "metadata": {},
   "outputs": [
    {
     "name": "stdout",
     "output_type": "stream",
     "text": [
      "Epoch 1/10\n",
      "Epoch 2/10\n",
      "Epoch 3/10\n",
      "Epoch 4/10\n",
      "Epoch 5/10\n",
      "Epoch 6/10\n",
      "Epoch 7/10\n",
      "Epoch 8/10\n",
      "Epoch 9/10\n",
      "Epoch 10/10\n"
     ]
    }
   ],
   "source": [
    "model = tf.keras.models.Sequential([\n",
    "    tf.keras.layers.SimpleRNN(10, stateful=True, batch_input_shape=(1, None, len(encodings))),  \n",
    "    tf.keras.layers.Dense(64, activation='relu'),\n",
    "    tf.keras.layers.Dense(64, activation='relu'),\n",
    "    tf.keras.layers.Dense(128, activation='softplus'),\n",
    "    tf.keras.layers.Dense(128, activation='relu'),\n",
    "    tf.keras.layers.Dense(len(encodings), activation='softmax')\n",
    "])\n",
    "\n",
    "model.compile(optimizer='adam', loss='categorical_crossentropy', metrics=['accuracy'])\n",
    "\n",
    "# Train the model one time step at a time\n",
    "for epoch in range(10):\n",
    "    print(f'Epoch {epoch + 1}/10')\n",
    "    for i, sequence in enumerate(X_train):\n",
    "        model.reset_states()  # Reset states at the beginning of each sequence\n",
    "        \n",
    "        # Train on single time step\n",
    "        for t in range(sequence.shape[0]): \n",
    "            x = sequence[t:t+1].reshape(1, 1, len(encodings))\n",
    "            y = Y_train[i][t:t+1] \n",
    "            loss = model.train_on_batch(x, y)\n"
   ]
  },
  {
   "cell_type": "code",
   "execution_count": 63,
   "metadata": {},
   "outputs": [
    {
     "name": "stdout",
     "output_type": "stream",
     "text": [
      "Model: \"sequential_13\"\n",
      "_________________________________________________________________\n",
      " Layer (type)                Output Shape              Param #   \n",
      "=================================================================\n",
      " simple_rnn_13 (SimpleRNN)   (1, 10)                   160       \n",
      "                                                                 \n",
      " dense_65 (Dense)            (1, 64)                   704       \n",
      "                                                                 \n",
      " dense_66 (Dense)            (1, 64)                   4160      \n",
      "                                                                 \n",
      " dense_67 (Dense)            (1, 128)                  8320      \n",
      "                                                                 \n",
      " dense_68 (Dense)            (1, 128)                  16512     \n",
      "                                                                 \n",
      " dense_69 (Dense)            (1, 5)                    645       \n",
      "                                                                 \n",
      "=================================================================\n",
      "Total params: 30501 (119.14 KB)\n",
      "Trainable params: 30501 (119.14 KB)\n",
      "Non-trainable params: 0 (0.00 Byte)\n",
      "_________________________________________________________________\n"
     ]
    }
   ],
   "source": [
    "model.summary()"
   ]
  },
  {
   "cell_type": "code",
   "execution_count": 67,
   "metadata": {},
   "outputs": [
    {
     "name": "stdout",
     "output_type": "stream",
     "text": [
      "[[0. 1. 0. 0. 0.]]\n",
      "1/1 [==============================] - 0s 27ms/step\n",
      "1/1 [==============================] - 0s 26ms/step\n",
      "3\n",
      "1/1 [==============================] - 0s 30ms/step\n",
      "1\n",
      "1/1 [==============================] - 0s 28ms/step\n",
      "2\n",
      "1/1 [==============================] - 0s 27ms/step\n",
      "3\n",
      "1/1 [==============================] - 0s 27ms/step\n",
      "1\n",
      "1/1 [==============================] - 0s 33ms/step\n",
      "2\n",
      "1/1 [==============================] - 0s 30ms/step\n",
      "3\n",
      "1/1 [==============================] - 0s 28ms/step\n",
      "1\n",
      "1/1 [==============================] - 0s 28ms/step\n",
      "2\n",
      "1/1 [==============================] - 0s 27ms/step\n",
      "3\n"
     ]
    },
    {
     "data": {
      "text/plain": [
       "'\\nfor i in range(10):\\n    pred = model.predict(np.array([seq]))\\n    pred = np.argmax(pred)\\n    print (decodings[pred])\\n    # append to sequence the one-hot encoding of pred\\n    one_hot = np.zeros((len(encodings)))\\n    one_hot[pred] = 1\\n    total_seq = np.append(total_seq, [one_hot], axis=0)\\n    # set sequence to be the last ten values of total_seq\\n    seq = total_seq[-10:]\\n\\n    #total_seq.append(pred)\\n    # total seq is a numpy array, can\\'t just append things to it\\n\\nmapping = {0: \"C\", 1: \"C#\", 2: \"D\", 3: \"D#\", 4: \"E\", 5: \"F\", 6: \"F#\", 7: \"G\", 8: \"G#\", 9: \"A\", 10: \"A#\", 11: \"B\"}\\n'"
      ]
     },
     "execution_count": 67,
     "metadata": {},
     "output_type": "execute_result"
    }
   ],
   "source": [
    "import copy\n",
    "# given a sequence, generate the next note (up to ten times)\n",
    "\n",
    "model.reset_states()\n",
    "\n",
    "# generate the first 10 notes after we input 1\n",
    "\n",
    "#pred = model.predict(encodings[1])\n",
    "one_hot = np.zeros((len(encodings)))\n",
    "one_hot[1] = 1\n",
    "print (np.array([one_hot]))\n",
    "pred = model.predict(np.array([[one_hot]]))\n",
    "for i in range(10):\n",
    "    one_hot = np.zeros((len(encodings)))\n",
    "    one_hot[np.argmax(pred)] = 1\n",
    "    pred = model.predict(np.array([[one_hot]]))\n",
    "    print (decodings[np.argmax(pred)])\n"
   ]
  },
  {
   "cell_type": "code",
   "execution_count": null,
   "metadata": {},
   "outputs": [],
   "source": [
    "# given a sequence, generate the next note (up to ten times)\n",
    "seq = copy.deepcopy(X_test[4])\n",
    "total_seq = seq[:]\n",
    "for i in range(10):\n",
    "    pred = model.predict(np.array([seq]))\n",
    "    pred = np.argmax(pred)\n",
    "    # append to sequence the one-hot encoding of pred\n",
    "    one_hot = np.zeros((len(encodings)))\n",
    "    one_hot[pred] = 1\n",
    "    total_seq = np.append(total_seq, [one_hot], axis=0)\n",
    "    # set sequence to be the last ten values of total_seq\n",
    "    seq = total_seq[-10:]\n",
    "\n",
    "    #total_seq.append(pred)\n",
    "    # total seq is a numpy array, can't just append things to it\n",
    "\n",
    "mapping = {0: \"C\", 1: \"C#\", 2: \"D\", 3: \"D#\", 4: \"E\", 5: \"F\", 6: \"F#\", 7: \"G\", 8: \"G#\", 9: \"A\", 10: \"A#\", 11: \"B\"}\n",
    "    \n",
    "\n",
    "for note in total_seq:\n",
    "    pitch, dur = decodings[np.argmax(note)]\n",
    "    print (mapping[pitch % 12], dur)\n",
    "\n",
    "# convert numbers to musical note letters\n",
    "# 60 = C"
   ]
  },
  {
   "cell_type": "code",
   "execution_count": 2,
   "metadata": {},
   "outputs": [],
   "source": [
    "import os \n",
    "import music21\n",
    "import music21.instrument\n",
    "import numpy as np\n",
    "import tensorflow as tf\n",
    "from sklearn.model_selection import train_test_split"
   ]
  }
 ],
 "metadata": {
  "kernelspec": {
   "display_name": "myenv",
   "language": "python",
   "name": "python3"
  },
  "language_info": {
   "codemirror_mode": {
    "name": "ipython",
    "version": 3
   },
   "file_extension": ".py",
   "mimetype": "text/x-python",
   "name": "python",
   "nbconvert_exporter": "python",
   "pygments_lexer": "ipython3",
   "version": "3.10.15"
  }
 },
 "nbformat": 4,
 "nbformat_minor": 2
}
